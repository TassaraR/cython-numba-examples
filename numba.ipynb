{
 "cells": [
  {
   "cell_type": "markdown",
   "id": "1f15f2f6-5856-4529-adcf-ebfee7edaebc",
   "metadata": {},
   "source": [
    "## Numba"
   ]
  },
  {
   "cell_type": "markdown",
   "id": "1fad23af-6dbc-4366-b18e-be424396afc0",
   "metadata": {},
   "source": [
    "Para utilizar numba se utiliza principalmente los decorators \n",
    "- @jit\n",
    "- @njit\n",
    "    - Es equivalente a utilizar @jit(nopython=True)\n",
    "    \n",
    "Es ideal evitar el uso de @jit ya que en ocasiones puede hacer el código más lento."
   ]
  },
  {
   "cell_type": "code",
   "execution_count": 1,
   "id": "accc6d18-36fb-4341-b159-7426d9a54a8c",
   "metadata": {},
   "outputs": [],
   "source": [
    "import numpy as np"
   ]
  },
  {
   "cell_type": "markdown",
   "id": "55ff196d-31d7-41c5-a24c-4ee087db3b7c",
   "metadata": {},
   "source": [
    "#### Versión Python"
   ]
  },
  {
   "cell_type": "code",
   "execution_count": 2,
   "id": "b7f45744-3d3f-4cfc-9485-323f93982ed5",
   "metadata": {},
   "outputs": [],
   "source": [
    "def unit_vector(arr):\n",
    "    \n",
    "    sz = arr.shape[0]\n",
    "    uvec = np.zeros(sz, dtype=np.float64)\n",
    "    norm = 0\n",
    "    \n",
    "    for i in range(sz):\n",
    "        norm += arr[i] ** 2\n",
    "    norm = norm ** 0.5\n",
    "    \n",
    "    for j in range(sz):\n",
    "        uvec[j] = arr[j] / norm\n",
    "        \n",
    "    return uvec"
   ]
  },
  {
   "cell_type": "code",
   "execution_count": 3,
   "id": "1f39bf59-d620-4609-840e-111b9dfeb693",
   "metadata": {},
   "outputs": [],
   "source": [
    "vec = np.random.rand(20_000_000)"
   ]
  },
  {
   "cell_type": "code",
   "execution_count": 4,
   "id": "542ec3ac-46c5-439e-8e66-5d9dbb00eb8f",
   "metadata": {},
   "outputs": [
    {
     "name": "stdout",
     "output_type": "stream",
     "text": [
      "10.7 s ± 28.5 ms per loop (mean ± std. dev. of 7 runs, 1 loop each)\n"
     ]
    }
   ],
   "source": [
    "%%timeit\n",
    "_ = unit_vector(vec)"
   ]
  },
  {
   "cell_type": "markdown",
   "id": "9365b553-cbb0-4efd-a85a-04a4bd28b3e8",
   "metadata": {
    "tags": []
   },
   "source": [
    "#### Versión Numba"
   ]
  },
  {
   "cell_type": "code",
   "execution_count": 5,
   "id": "6d6ceacf-923d-460b-a7c3-c9f2d0910457",
   "metadata": {},
   "outputs": [],
   "source": [
    "from numba import jit, njit "
   ]
  },
  {
   "cell_type": "code",
   "execution_count": 6,
   "id": "99f3588d-267c-49d7-8df8-0442d60c0ffa",
   "metadata": {},
   "outputs": [],
   "source": [
    "@njit\n",
    "def unit_vector_nb(arr):\n",
    "    \n",
    "    sz = arr.shape[0]\n",
    "    uvec = np.zeros(sz, dtype=np.float64)\n",
    "    norm = 0\n",
    "    \n",
    "    for i in range(sz):\n",
    "        norm += arr[i] ** 2\n",
    "    norm = norm ** 0.5\n",
    "    \n",
    "    for j in range(sz):\n",
    "        uvec[j] = arr[j] / norm\n",
    "        \n",
    "    return uvec"
   ]
  },
  {
   "cell_type": "code",
   "execution_count": 7,
   "id": "64752a86-6205-4d77-a50b-3a6b16360240",
   "metadata": {},
   "outputs": [],
   "source": [
    "# Compilation run\n",
    "_ = unit_vector_nb(vec[0:2])"
   ]
  },
  {
   "cell_type": "code",
   "execution_count": 8,
   "id": "2db66e4c-65ca-45e1-a119-21f33a7a56ab",
   "metadata": {},
   "outputs": [
    {
     "name": "stdout",
     "output_type": "stream",
     "text": [
      "66.8 ms ± 1.09 ms per loop (mean ± std. dev. of 7 runs, 10 loops each)\n"
     ]
    }
   ],
   "source": [
    "%%timeit\n",
    "_ = unit_vector_nb(vec)"
   ]
  },
  {
   "cell_type": "markdown",
   "id": "8058c071-88c6-43f0-ada6-ecdfb2e6daf4",
   "metadata": {
    "tags": []
   },
   "source": [
    "#### Soporte Numpy"
   ]
  },
  {
   "cell_type": "markdown",
   "id": "bec904d2-6457-470f-ab09-3b9eb8b17224",
   "metadata": {},
   "source": [
    "##### Ejemplo 1"
   ]
  },
  {
   "cell_type": "code",
   "execution_count": 9,
   "id": "9eb07c4c-97f4-4360-a7e3-08f9431cf014",
   "metadata": {},
   "outputs": [],
   "source": [
    "mat = np.random.rand(10000, 10000)"
   ]
  },
  {
   "cell_type": "code",
   "execution_count": 10,
   "id": "0f23980d-72b5-480f-84f0-6caf12aa31f7",
   "metadata": {},
   "outputs": [],
   "source": [
    "@jit\n",
    "def test_mean1(mat):\n",
    "    return np.mean(mat, axis=0)\n",
    "\n",
    "@njit\n",
    "def test_mean2(mat):\n",
    "    rows, cols = mat.shape\n",
    "    mean = np.zeros(cols, dtype=np.float64)\n",
    "    \n",
    "    for i in range(rows):\n",
    "        mean[i] = np.mean(mat[:, i])\n",
    "        \n",
    "    return mean"
   ]
  },
  {
   "cell_type": "code",
   "execution_count": 11,
   "id": "e14a0bb1-ae1a-40b8-a46e-bdbcfe91fb06",
   "metadata": {},
   "outputs": [],
   "source": [
    "#_ = test_mean1(mat)"
   ]
  },
  {
   "cell_type": "code",
   "execution_count": 12,
   "id": "627d2076-6f75-4591-99c6-9d06772f4a7b",
   "metadata": {},
   "outputs": [],
   "source": [
    "_ = test_mean2(mat)"
   ]
  },
  {
   "cell_type": "code",
   "execution_count": 13,
   "id": "776dcb63-5593-4266-b561-2d7d488176ce",
   "metadata": {},
   "outputs": [
    {
     "name": "stdout",
     "output_type": "stream",
     "text": [
      "43.4 ms ± 260 µs per loop (mean ± std. dev. of 7 runs, 10 loops each)\n"
     ]
    }
   ],
   "source": [
    "%%timeit\n",
    "_ = np.mean(mat, axis=0)"
   ]
  },
  {
   "cell_type": "code",
   "execution_count": 14,
   "id": "bfba1945-6164-4e4b-9644-330e673345fa",
   "metadata": {},
   "outputs": [
    {
     "name": "stdout",
     "output_type": "stream",
     "text": [
      "1.37 s ± 14.8 ms per loop (mean ± std. dev. of 7 runs, 1 loop each)\n"
     ]
    }
   ],
   "source": [
    "%%timeit\n",
    "_ = test_mean2(mat)"
   ]
  },
  {
   "cell_type": "markdown",
   "id": "b93b30b4-9cd9-4f8a-a4c5-0a73da67c694",
   "metadata": {},
   "source": [
    "- Ejecución en `Numba` resulta más lenta que en `Numpy`"
   ]
  },
  {
   "cell_type": "markdown",
   "id": "65baa381-bf37-45e6-bfaf-a5f56d6e2b57",
   "metadata": {},
   "source": [
    "##### Ejemplo 2"
   ]
  },
  {
   "cell_type": "code",
   "execution_count": 15,
   "id": "40871cb4-3628-4ea4-a118-2915d29d4baa",
   "metadata": {},
   "outputs": [],
   "source": [
    "@njit\n",
    "def simple_mean(mat):\n",
    "    return np.mean(mat)"
   ]
  },
  {
   "cell_type": "code",
   "execution_count": 16,
   "id": "13f430c4-13bf-4631-905f-3cd27e76085f",
   "metadata": {},
   "outputs": [],
   "source": [
    "_ = simple_mean(mat)"
   ]
  },
  {
   "cell_type": "code",
   "execution_count": 17,
   "id": "f8c36024-5731-4f43-a69a-617ea9a98000",
   "metadata": {},
   "outputs": [
    {
     "name": "stdout",
     "output_type": "stream",
     "text": [
      "115 ms ± 940 µs per loop (mean ± std. dev. of 7 runs, 10 loops each)\n"
     ]
    }
   ],
   "source": [
    "%%timeit\n",
    "_ = np.mean(mat)"
   ]
  },
  {
   "cell_type": "code",
   "execution_count": 18,
   "id": "49016852-dd52-4e1f-8437-77d11c972836",
   "metadata": {},
   "outputs": [
    {
     "name": "stdout",
     "output_type": "stream",
     "text": [
      "75.2 ms ± 68.4 µs per loop (mean ± std. dev. of 7 runs, 10 loops each)\n"
     ]
    }
   ],
   "source": [
    "%%timeit\n",
    "_ = simple_mean(mat)"
   ]
  },
  {
   "cell_type": "markdown",
   "id": "94d43dd6-308a-4f4f-9651-6add1371a3e2",
   "metadata": {},
   "source": [
    "Ejecución en `Numba` resulta más veloz que en `Numpy`"
   ]
  },
  {
   "cell_type": "markdown",
   "id": "456cb99b-cb77-4668-a360-d925cbe9e77b",
   "metadata": {
    "tags": []
   },
   "source": [
    "### Multithreading"
   ]
  },
  {
   "cell_type": "markdown",
   "id": "70a86568-1b52-4f8a-a5d5-58a58ded98d6",
   "metadata": {},
   "source": [
    "Numba permite realizar multithreading utilizando la libreria `openmp` de C"
   ]
  },
  {
   "cell_type": "code",
   "execution_count": 19,
   "id": "9f11c783-a654-4103-926c-825767d37802",
   "metadata": {},
   "outputs": [],
   "source": [
    "import numba\n",
    "from numba import prange, set_num_threads"
   ]
  },
  {
   "cell_type": "code",
   "execution_count": 20,
   "id": "567200c4-ca2e-4055-86e9-b5621f6bfc46",
   "metadata": {},
   "outputs": [
    {
     "name": "stdout",
     "output_type": "stream",
     "text": [
      "66.4 ms ± 631 µs per loop (mean ± std. dev. of 7 runs, 10 loops each)\n"
     ]
    }
   ],
   "source": [
    "%%timeit \n",
    "_ = unit_vector_nb(vec)"
   ]
  },
  {
   "cell_type": "code",
   "execution_count": 21,
   "id": "8d8ca107-0087-4dfb-952e-4f159eb97d7d",
   "metadata": {},
   "outputs": [
    {
     "data": {
      "text/plain": [
       "16"
      ]
     },
     "execution_count": 21,
     "metadata": {},
     "output_type": "execute_result"
    }
   ],
   "source": [
    "numba.config.NUMBA_DEFAULT_NUM_THREADS"
   ]
  },
  {
   "cell_type": "code",
   "execution_count": 22,
   "id": "496fc743-0e82-4f1b-8bab-cc699f04d1a5",
   "metadata": {},
   "outputs": [],
   "source": [
    "@njit(parallel=True)\n",
    "def unit_vector_nbp(arr):\n",
    "    \n",
    "    sz = arr.shape[0]\n",
    "    uvec = np.zeros(sz, dtype=np.float64)\n",
    "    norm = 0\n",
    "    \n",
    "    for i in prange(sz): # Se cambia por prange\n",
    "        norm += arr[i] ** 2\n",
    "    norm = norm ** 0.5\n",
    "    \n",
    "    for j in prange(sz): # Se cambia por prange\n",
    "        uvec[j] = arr[j] / norm\n",
    "        \n",
    "    return uvec"
   ]
  },
  {
   "cell_type": "code",
   "execution_count": 23,
   "id": "a3774f76-4afd-45c7-bafc-e6c78bf508e0",
   "metadata": {},
   "outputs": [],
   "source": [
    "_ = unit_vector_nbp(vec[0:2])"
   ]
  },
  {
   "cell_type": "code",
   "execution_count": 24,
   "id": "009a971a-894c-4c45-99fd-55da1e4af0fe",
   "metadata": {},
   "outputs": [
    {
     "name": "stdout",
     "output_type": "stream",
     "text": [
      "40.5 ms ± 543 µs per loop (mean ± std. dev. of 7 runs, 10 loops each)\n"
     ]
    }
   ],
   "source": [
    "%%timeit\n",
    "_ = unit_vector_nbp(vec)"
   ]
  },
  {
   "cell_type": "code",
   "execution_count": 25,
   "id": "137de531-41ac-4363-8680-1ba17ec7ee2c",
   "metadata": {},
   "outputs": [
    {
     "name": "stdout",
     "output_type": "stream",
     "text": [
      "43.4 ms ± 4.33 ms per loop (mean ± std. dev. of 7 runs, 10 loops each)\n"
     ]
    }
   ],
   "source": [
    "%%timeit\n",
    "set_num_threads(2)\n",
    "_ = unit_vector_nbp(vec)"
   ]
  },
  {
   "cell_type": "markdown",
   "id": "e5cec3dd-a7f9-4894-a071-a41ef2b832fc",
   "metadata": {
    "tags": []
   },
   "source": [
    "### Caching"
   ]
  },
  {
   "cell_type": "markdown",
   "id": "81c257d8-49b2-45b3-bafc-60809e72778f",
   "metadata": {},
   "source": [
    "- Solo se puede hacer caching de modulos `self-contained` - No pueden depender de otros paquetes compilados por LLVM (Numba)\n",
    "- Código se encuentra en la carpeta `__pycache__`\n",
    "\n",
    "- Ya que el código se compila de forma JIT, optimizandose para el equipo en el que fue ejecutado, si se traspasa a otro PC, volverá a ser compilado y re-guardado.\n",
    "- Caching utiliza pickle por detrás."
   ]
  },
  {
   "cell_type": "code",
   "execution_count": 26,
   "id": "b3b12b9d-d136-4823-ad66-a86fbb00c7cb",
   "metadata": {},
   "outputs": [],
   "source": [
    "@njit(parallel=True, cache=True)\n",
    "def unit_vector_nbpi(arr):\n",
    "    \n",
    "    sz = arr.shape[0]\n",
    "    uvec = np.zeros(sz, dtype=np.float64)\n",
    "    norm = 0\n",
    "    \n",
    "    for i in prange(sz):\n",
    "        norm += arr[i] ** 2\n",
    "    norm = norm ** 0.5\n",
    "    \n",
    "    for j in prange(sz):\n",
    "        uvec[j] = arr[j] / norm\n",
    "        \n",
    "    return uvec"
   ]
  },
  {
   "cell_type": "code",
   "execution_count": 27,
   "id": "83099823-36d1-48ac-8753-d9f2a070695a",
   "metadata": {},
   "outputs": [],
   "source": [
    "_ = unit_vector_nbpi(vec[0:1])"
   ]
  },
  {
   "cell_type": "markdown",
   "id": "71e59f4f-7e44-4c5e-8540-348d70dad967",
   "metadata": {},
   "source": [
    "#### NO SABIS COMO SE ARMA LA COSA"
   ]
  },
  {
   "cell_type": "code",
   "execution_count": 28,
   "id": "602ac3cc-78b8-44f2-b71c-40b37fd3ba94",
   "metadata": {},
   "outputs": [],
   "source": [
    "@njit\n",
    "def sum_one(var):\n",
    "    return var + 1"
   ]
  },
  {
   "cell_type": "code",
   "execution_count": 29,
   "id": "d75bab82-7cea-4004-bada-26b2cb7ceaf5",
   "metadata": {},
   "outputs": [],
   "source": [
    "_ = sum_one(1)"
   ]
  },
  {
   "cell_type": "code",
   "execution_count": 30,
   "id": "d280daea-1313-41cb-b6e2-df8e079e9e74",
   "metadata": {},
   "outputs": [
    {
     "name": "stdout",
     "output_type": "stream",
     "text": [
      "Int32: 2,147,483,647\n",
      "Int64: 9,223,372,036,854,775,807\n"
     ]
    }
   ],
   "source": [
    "int32 = 2 ** 32 // 2 - 1\n",
    "int64 = 2 ** 64 // 2 - 1\n",
    "\n",
    "print(f'Int32: {int32:,}\\nInt64: {int64:,}')"
   ]
  },
  {
   "cell_type": "code",
   "execution_count": 31,
   "id": "d6f49743-471d-4c84-9dd3-5ea3c018d55a",
   "metadata": {},
   "outputs": [
    {
     "data": {
      "text/plain": [
       "2147483648"
      ]
     },
     "execution_count": 31,
     "metadata": {},
     "output_type": "execute_result"
    }
   ],
   "source": [
    "sum_one(int32)"
   ]
  },
  {
   "cell_type": "code",
   "execution_count": 32,
   "id": "5e746141-ca47-4dcf-b806-ad81f23cc709",
   "metadata": {},
   "outputs": [
    {
     "data": {
      "text/plain": [
       "-9223372036854775808"
      ]
     },
     "execution_count": 32,
     "metadata": {},
     "output_type": "execute_result"
    }
   ],
   "source": [
    "sum_one(int64)"
   ]
  },
  {
   "cell_type": "markdown",
   "id": "af34bd05-9085-4549-8499-893cb9775bd8",
   "metadata": {},
   "source": [
    "### Vectorize"
   ]
  },
  {
   "cell_type": "markdown",
   "id": "16f20432-ff94-4198-8c96-6aaaceb5b9b5",
   "metadata": {},
   "source": [
    "- `np.vectorize` es lento y solamente existe por conveniencia. Literal de la documentación:\n",
    "    \n",
    "\n",
    "*The vectorize function is provided primarily for convenience, not for performance. The implementation is essentially a for loop.*"
   ]
  },
  {
   "cell_type": "code",
   "execution_count": 33,
   "id": "46a56e91-7c7b-4869-b66f-a0c48f2270af",
   "metadata": {},
   "outputs": [],
   "source": [
    "from numba import vectorize, guvectorize, float64"
   ]
  },
  {
   "cell_type": "code",
   "execution_count": 34,
   "id": "5c14cdb1-835f-41d9-9ce2-cc9c2cb56131",
   "metadata": {},
   "outputs": [],
   "source": [
    "@vectorize([float64(float64, float64)])\n",
    "def f(x, y):\n",
    "    return x + y"
   ]
  },
  {
   "cell_type": "code",
   "execution_count": 35,
   "id": "f07b385f-34a1-43cb-85ac-bdee03193fb6",
   "metadata": {},
   "outputs": [],
   "source": [
    "v1 = np.random.rand(int(1e6))\n",
    "v2 = np.random.rand(int(1e6))"
   ]
  },
  {
   "cell_type": "code",
   "execution_count": 36,
   "id": "9c64dce1-2a42-42b5-a13d-52612776f27c",
   "metadata": {},
   "outputs": [
    {
     "name": "stdout",
     "output_type": "stream",
     "text": [
      "1.89 ms ± 174 µs per loop (mean ± std. dev. of 7 runs, 100 loops each)\n"
     ]
    }
   ],
   "source": [
    "%%timeit\n",
    "_ = f(v1, v2)"
   ]
  }
 ],
 "metadata": {
  "kernelspec": {
   "display_name": "Python 3",
   "language": "python",
   "name": "python3"
  },
  "language_info": {
   "codemirror_mode": {
    "name": "ipython",
    "version": 3
   },
   "file_extension": ".py",
   "mimetype": "text/x-python",
   "name": "python",
   "nbconvert_exporter": "python",
   "pygments_lexer": "ipython3",
   "version": "3.8.8"
  }
 },
 "nbformat": 4,
 "nbformat_minor": 5
}
